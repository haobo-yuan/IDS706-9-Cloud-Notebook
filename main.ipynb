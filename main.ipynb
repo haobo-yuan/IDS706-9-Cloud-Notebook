{
 "cells": [
  {
   "cell_type": "markdown",
   "metadata": {},
   "source": [
    "# Load Data\n",
    "Load data from csv files to a pandas dataframe, and then convert the dataframe to SQL database.\n",
    "\n",
    "Last Modified: 2024-10-3 "
   ]
  },
  {
   "cell_type": "code",
   "execution_count": 1,
   "metadata": {},
   "outputs": [
    {
     "name": "stdout",
     "output_type": "stream",
     "text": [
      "Loaded Data:\n",
      "          Date      Open      High       Low     Close     Volume  Name\n",
      "0  2010-01-04  7.622500  7.660714  7.585000  7.643214  493729600  AAPL\n",
      "1  2010-01-05  7.664286  7.699643  7.616071  7.656429  601904800  AAPL\n",
      "2  2010-01-06  7.656429  7.686786  7.526786  7.534643  552160000  AAPL\n"
     ]
    }
   ],
   "source": [
    "import sqlite3\n",
    "import pandas as pd\n",
    "\n",
    "# Connect to a database (creates the file if it doesn't exist)\n",
    "with sqlite3.connect('data/nasdaq.db') as conn:\n",
    "\n",
    "    # read first 10 rows of the data\n",
    "    df = pd.read_csv('data/NASDAQ_100_Data_From_2010.csv', nrows=3, sep='\\t')\n",
    "    # delete the \"Adj Close\" column\n",
    "    df = df.drop(columns=['Adj Close'])\n",
    "    # write the data to a table in the database\n",
    "    df.to_sql('stocks', conn, if_exists='replace', index=False)\n",
    "    # print(df)\n",
    "\n",
    "    cursor = conn.cursor()\n",
    "    df = pd.read_sql_query(\"SELECT * FROM stocks\", conn)\n",
    "    print(\"Loaded Data:\\n\", df)\n"
   ]
  },
  {
   "cell_type": "code",
   "execution_count": 2,
   "metadata": {},
   "outputs": [
    {
     "name": "stdout",
     "output_type": "stream",
     "text": [
      "Create example:\n",
      "          Date        Open        High        Low       Close     Volume  \\\n",
      "0  2010-01-04    7.622500    7.660714   7.585000    7.643214  493729600   \n",
      "1  2010-01-05    7.664286    7.699643   7.616071    7.656429  601904800   \n",
      "2  2010-01-06    7.656429    7.686786   7.526786    7.534643  552160000   \n",
      "3  2021-10-01  100.000000  110.000000  90.000000  105.000000    1000000   \n",
      "\n",
      "             Name  \n",
      "0            AAPL  \n",
      "1            AAPL  \n",
      "2            AAPL  \n",
      "3  Imaginary AAPL  \n",
      "\n",
      "\n",
      "Read Example:\n",
      " [('2021-10-01', 100.0, 110.0, 90.0, 105.0, 1000000, 'Imaginary AAPL')]\n",
      "\n",
      "\n",
      "Update example:\n",
      "          Date        Open        High        Low       Close     Volume  \\\n",
      "0  2010-01-04    7.622500    7.660714   7.585000    7.643214  493729600   \n",
      "1  2010-01-05    7.664286    7.699643   7.616071    7.656429  601904800   \n",
      "2  2010-01-06    7.656429    7.686786   7.526786    7.534643  552160000   \n",
      "3  2021-10-01  100.000000  110.000000  90.000000  200.000000    1000000   \n",
      "\n",
      "             Name  \n",
      "0            AAPL  \n",
      "1            AAPL  \n",
      "2            AAPL  \n",
      "3  Imaginary AAPL  \n",
      "\n",
      "\n",
      "Delete example:\n",
      "          Date      Open      High       Low     Close     Volume  Name\n",
      "0  2010-01-04  7.622500  7.660714  7.585000  7.643214  493729600  AAPL\n",
      "1  2010-01-05  7.664286  7.699643  7.616071  7.656429  601904800  AAPL\n",
      "2  2010-01-06  7.656429  7.686786  7.526786  7.534643  552160000  AAPL\n"
     ]
    }
   ],
   "source": [
    "import sqlite3\n",
    "\n",
    "# Connect to the database\n",
    "with sqlite3.connect('data/nasdaq.db') as conn:\n",
    "    cursor = conn.cursor()\n",
    "\n",
    "    # Create (Insert a new record)\n",
    "    cursor.execute(\"\"\"\n",
    "        INSERT INTO stocks (Date, Open, High, Low, Close, Volume, Name)\n",
    "        VALUES (?, ?, ?, ?, ?, ?, ?)\n",
    "        \"\"\", ('2021-10-01', 100, 110, 90, 105, 1000000, 'Imaginary AAPL'))\n",
    "    \n",
    "    df = pd.read_sql_query(\"SELECT * FROM stocks\", conn)\n",
    "    print(\"Create example:\\n\",df)\n",
    "\n",
    "    # Read (Query records)\n",
    "    cursor.execute(\"SELECT * FROM stocks WHERE Name = 'Imaginary AAPL'\")\n",
    "    print(\"\\n\\nRead Example:\\n\",cursor.fetchall())\n",
    "\n",
    "    # Update (Modify a record)\n",
    "    cursor.execute(\"UPDATE stocks SET Close = ? WHERE Name = ?\", (200, 'Imaginary AAPL'))\n",
    "    df = pd.read_sql_query(\"SELECT * FROM stocks\", conn)\n",
    "    print(\"\\n\\nUpdate example:\\n\",df)\n",
    "\n",
    "    # # Delete (Remove a record)\n",
    "    cursor.execute(\"DELETE FROM stocks WHERE Name = 'Imaginary AAPL'\")\n",
    "    df = pd.read_sql_query(\"SELECT * FROM stocks\", conn)\n",
    "    print(\"\\n\\nDelete example:\\n\",df)\n",
    "\n",
    "    conn.commit()\n",
    "    "
   ]
  }
 ],
 "metadata": {
  "kernelspec": {
   "display_name": ".scaffold",
   "language": "python",
   "name": "python3"
  },
  "language_info": {
   "codemirror_mode": {
    "name": "ipython",
    "version": 3
   },
   "file_extension": ".py",
   "mimetype": "text/x-python",
   "name": "python",
   "nbconvert_exporter": "python",
   "pygments_lexer": "ipython3",
   "version": "3.10.12"
  }
 },
 "nbformat": 4,
 "nbformat_minor": 2
}
